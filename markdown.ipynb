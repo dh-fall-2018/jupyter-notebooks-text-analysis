{
 "cells": [
  {
   "cell_type": "markdown",
   "metadata": {},
   "source": [
    "# Markdown Cells in Jupyter Notebooks\n",
    "\n",
    "## And Some Examples of Markdown!"
   ]
  },
  {
   "cell_type": "markdown",
   "metadata": {},
   "source": [
    "### You can use markdown to style Jupyter Notebook cells. Run the Notebook cell to see the result. Double click on any cell to see or edit the markdown code that produced it."
   ]
  },
  {
   "cell_type": "markdown",
   "metadata": {},
   "source": [
    "You can make links like this one for [Google](https://google.com) (It takes you to Google.com) "
   ]
  },
  {
   "cell_type": "markdown",
   "metadata": {},
   "source": [
    "### You can make list items with a hyphen and a space:\n",
    "\n",
    "- list item 1\n",
    "- list item 2"
   ]
  },
  {
   "cell_type": "markdown",
   "metadata": {},
   "source": [
    "If you type \n",
    "\n",
    "<pre>```python\n",
    "\n",
    "some code</pre>\n",
    "\n",
    "<pre>```</pre>\n",
    "\n",
    "the cell will print your code block with syntax highlighting.\n",
    "\n",
    "```python\n",
    "import os\n",
    "for i in os.walk:\n",
    "    pass\n",
    "```"
   ]
  },
  {
   "cell_type": "markdown",
   "metadata": {},
   "source": [
    "You can even make an html table in a readme file (this is how dataframes are displayed)\n",
    "\n",
    "<table align='left'>\n",
    "<thead>\n",
    "\t<tr>\n",
    "\t\t<th title=\"Rank\">Rank</th>\n",
    "\t    <th title=\"Term\">Term</th>\n",
    "\t    <th title=\"Count\">Count</th>\n",
    "    </tr>\n",
    "</thead>\n",
    "<tbody>\n",
    "\t<tr>\n",
    "<td></td>\n",
    "\t\t<td>1</td>\n",
    "\t\t<td>the</td>\n",
    "\t\t<td>21</td>\n",
    "\t</tr>\n",
    "\t<tr>\n",
    "<td></td>\n",
    "\t\t<td>2</td>\n",
    "\t\t<td>of</td>\n",
    "\t\t<td>16</td>\n",
    "\t</tr>\n",
    "\t<tr>\n",
    "<td></td>\n",
    "\t\t<td>3</td>\n",
    "\t\t<td>her</td>\n",
    "\t\t<td>15</td>\n",
    "\t</tr>\n",
    "\t<tr>\n",
    "<td></td>\n",
    "\t\t<td>4</td>\n",
    "\t\t<td>in</td>\n",
    "\t\t<td>14</td>\n",
    "\t</tr>\n",
    "\t<tr>\n",
    "<td></td>\n",
    "\t\t<td>5</td>\n",
    "\t\t<td>and</td>\n",
    "\t\t<td>13</td>\n",
    "\t</tr>\n",
    "\t<tr>\n",
    "<td></td>\n",
    "\t\t<td>6</td>\n",
    "\t\t<td>she</td>\n",
    "\t\t<td>10</td>\n",
    "\t</tr>\n",
    "\t<tr>\n",
    "<td></td>\n",
    "\t\t<td>7</td>\n",
    "\t\t<td>at</td>\n",
    "\t\t<td>8</td>\n",
    "\t</tr>\n",
    "\t<tr>\n",
    "<td></td>\n",
    "\t\t<td>8</td>\n",
    "\t\t<td>cochrane</td>\n",
    "\t\t<td>4</td>\n",
    "\t</tr>\n",
    "\t<tr>\n",
    "<td></td>\n",
    "\t\t<td>9</td>\n",
    "\t\t<td>was</td>\n",
    "\t\t<td>4</td>\n",
    "\t</tr>\n",
    "\t<tr>\n",
    "<td></td>\n",
    "\t\t<td>10</td>\n",
    "\t\t<td>to</td>\n",
    "\t\t<td>4</td>\n",
    "\t</tr>\n",
    "</tbody>\n",
    "</table>"
   ]
  },
  {
   "cell_type": "markdown",
   "metadata": {},
   "source": [
    "Or display an image!\n",
    "\n",
    "<img src=\"https://upload.wikimedia.org/wikipedia/commons/thumb/e/e2/Jupiter.jpg/800px-Jupiter.jpg\">"
   ]
  },
  {
   "cell_type": "code",
   "execution_count": null,
   "metadata": {},
   "outputs": [],
   "source": []
  }
 ],
 "metadata": {
  "kernelspec": {
   "display_name": "Python 3",
   "language": "python",
   "name": "python3"
  },
  "language_info": {
   "codemirror_mode": {
    "name": "ipython",
    "version": 3
   },
   "file_extension": ".py",
   "mimetype": "text/x-python",
   "name": "python",
   "nbconvert_exporter": "python",
   "pygments_lexer": "ipython3",
   "version": "3.6.5"
  }
 },
 "nbformat": 4,
 "nbformat_minor": 2
}
