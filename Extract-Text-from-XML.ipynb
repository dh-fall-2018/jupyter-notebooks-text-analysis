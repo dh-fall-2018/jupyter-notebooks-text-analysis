{
 "cells": [
  {
   "cell_type": "code",
   "execution_count": 6,
   "metadata": {},
   "outputs": [],
   "source": [
    "from bs4 import BeautifulSoup"
   ]
  },
  {
   "cell_type": "code",
   "execution_count": 7,
   "metadata": {},
   "outputs": [
    {
     "data": {
      "text/plain": [
       "'\\n\\n    \\n        \\n            \\n                Going West\\n                Or, Homes for the Homeless: A Novel\\n                Alexander, M. 1842-1892\\n                \\n                    Encoded By\\n                    Luke, Stephanie\\n                \\n                \\n                    Edited By\\n                    Courtney, Angela\\n                \\n                \\n                    Edited By\\n                    Dalmau, Michelle\\n                \\n            \\n            \\n                Digital Library Program, Indiana University\\n                Bloomington, IN\\n                \\n                    1320 E. 10th St.\\n                    Bloomington, IN 47405\\n                \\n                VAB1828\\n                \\n                    2010, The Trustees of Indiana University. Indiana University makes a claim of copyright only to\\n                        original contributions made by the Victorian Women Writers Project participants and other\\n                        members of the universi'"
      ]
     },
     "execution_count": 7,
     "metadata": {},
     "output_type": "execute_result"
    }
   ],
   "source": [
    "xml_file2 = 'VAB1828.xml'\n",
    "\n",
    "with open(xml_file2) as f:\n",
    "    xml2 = f.read()\n",
    "\n",
    "bs = BeautifulSoup(xml2)\n",
    "bs.text[:1000]"
   ]
  },
  {
   "cell_type": "code",
   "execution_count": 82,
   "metadata": {},
   "outputs": [],
   "source": [
    "jclifford = bs.find_all(\"said\", {\"who\":\"#jclifford\"})\n",
    "belliot = bs.find_all(\"said\", {\"who\":\"#belliot\"})"
   ]
  }
 ],
 "metadata": {
  "kernelspec": {
   "display_name": "Python 3",
   "language": "python",
   "name": "python3"
  },
  "language_info": {
   "codemirror_mode": {
    "name": "ipython",
    "version": 3
   },
   "file_extension": ".py",
   "mimetype": "text/x-python",
   "name": "python",
   "nbconvert_exporter": "python",
   "pygments_lexer": "ipython3",
   "version": "3.6.5"
  }
 },
 "nbformat": 4,
 "nbformat_minor": 2
}
