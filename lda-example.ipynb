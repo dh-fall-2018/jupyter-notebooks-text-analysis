{
 "cells": [
  {
   "cell_type": "code",
   "execution_count": 3,
   "metadata": {},
   "outputs": [
    {
     "data": {
      "text/plain": [
       "'txt/0426.txt'"
      ]
     },
     "execution_count": 3,
     "metadata": {},
     "output_type": "execute_result"
    }
   ],
   "source": [
    "import os\n",
    "all_txt_files =[]\n",
    "# get all file names for obits in txt folder\n",
    "for root, dirs, files in os.walk(\"txt\"):\n",
    "    for file in files:\n",
    "        if file.endswith(\".txt\"):\n",
    "            all_txt_files.append(os.path.join(root, file))\n",
    "n_files = len(all_txt_files)\n",
    "all_txt_files[365]"
   ]
  },
  {
   "cell_type": "code",
   "execution_count": 4,
   "metadata": {},
   "outputs": [],
   "source": [
    "# create a list of strings. Each string is an obit\n",
    "all_text = []\n",
    "for i in all_txt_files:\n",
    "    with open(i) as f:\n",
    "        txt = f.read()\n",
    "    all_text.append(txt)"
   ]
  },
  {
   "cell_type": "code",
   "execution_count": 27,
   "metadata": {},
   "outputs": [],
   "source": [
    "#import the TfidfVectorizer from scikit-learn.  \n",
    "from sklearn.feature_extraction.text import CountVectorizer\n",
    "from sklearn.decomposition import LatentDirichletAllocation"
   ]
  },
  {
   "cell_type": "code",
   "execution_count": 39,
   "metadata": {},
   "outputs": [],
   "source": [
    "# TfidfVectorizer is a class, so I instantiate it with specific pararmeters as 'vectorizer'\n",
    "# I then run the object's fit_transform() method on my list of strings (all_docs)\n",
    "# The stored variable X is output of the fit_transform() method \n",
    "vectorizer = CountVectorizer(max_df=0.75, min_df=3,\n",
    "                                max_features=8000,\n",
    "                                stop_words='english')\n",
    "X = vectorizer.fit_transform(all_text)"
   ]
  },
  {
   "cell_type": "code",
   "execution_count": 40,
   "metadata": {},
   "outputs": [],
   "source": [
    "# The fit_transform() method converts the list of strings to a sparse matrix of TF-IDF values\n",
    "# The toarray method converts a numpy array, which makes it easier to indpect every values including the zeros \n",
    "myarray = X.toarray()"
   ]
  },
  {
   "cell_type": "code",
   "execution_count": 41,
   "metadata": {},
   "outputs": [
    {
     "data": {
      "text/plain": [
       "LatentDirichletAllocation(batch_size=128, doc_topic_prior=None,\n",
       "             evaluate_every=-1, learning_decay=0.7,\n",
       "             learning_method='online', learning_offset=50.0,\n",
       "             max_doc_update_iter=100, max_iter=15, mean_change_tol=0.001,\n",
       "             n_components=50, n_jobs=1, n_topics=None, perp_tol=0.1,\n",
       "             random_state=0, topic_word_prior=None,\n",
       "             total_samples=1000000.0, verbose=0)"
      ]
     },
     "execution_count": 41,
     "metadata": {},
     "output_type": "execute_result"
    }
   ],
   "source": [
    "lda = LatentDirichletAllocation(n_components=50, max_iter=15,\n",
    "                                learning_method='online',\n",
    "                                learning_offset=50.,\n",
    "                                random_state=0)\n",
    "\n",
    "lda.fit(myarray)"
   ]
  },
  {
   "cell_type": "code",
   "execution_count": 42,
   "metadata": {},
   "outputs": [],
   "source": [
    "feature_names = vectorizer.get_feature_names()\n",
    "topic_summaries = []\n",
    "for topic_idx, topic in enumerate(lda.components_):\n",
    "    message = \"Topic #%d: \" % topic_idx\n",
    "    message += \" \".join([feature_names[i] for i in topic.argsort()[:-25 - 1:-1]])\n",
    "    topic_summaries.append(message)"
   ]
  },
  {
   "cell_type": "code",
   "execution_count": 43,
   "metadata": {},
   "outputs": [
    {
     "data": {
      "text/plain": [
       "['Topic #0: yeats abbey mr verse irish moore ireland dublin wrote emperor day poet came president did york people war shawn called work pulitzer son state public',\n",
       " 'Topic #1: mr weizmann jewish british israel sadat build music people continued president negotiation palestine day letting classes winners mass bernstein conducting kelly faithful development failing dubious',\n",
       " 'Topic #2: mr wrote book man called like president york came writing did miss war charlie published school faulkner john work brown young white house political plays',\n",
       " 'Topic #3: picasso painting painter pablo canvas artist matisse mistress stein variations exhausted sculpture mr gertrude drawings paint painters museums olivier painted art distorted comparable collectors spanish',\n",
       " 'Topic #4: mr rodgers times government state music sadat gandhi mrs states did president shaw city british dr india consultation peace newspaper great months people wrote public',\n",
       " 'Topic #5: mr mao man did khrushchev like president united music soviet hawkins war young york wrote work paris party went called kelly came france stravinsky states',\n",
       " 'Topic #6: douglass slavery haiti frederick rochester mr birthplace slave ferry anthony council picasso divide colored consulted mrs did president dr man women relating race cohan united',\n",
       " 'Topic #7: mr mao soviet party united mrs kelly man like began gandhi did friendly stevenson campaign states work state wrote dr war chinese came called people',\n",
       " 'Topic #8: chiang vaccine salk virus polio dr sabin research china disease communists generalissimo medical nationalist taiwan mainland diseases united developed killed live develop influenza states paralysis',\n",
       " 'Topic #9: kane weissmuller robin superman bat cape comics finger bruce mr meter villains comic strips criminals tools costume adventure deaths fights strip bob wonder doris myth',\n",
       " 'Topic #10: lowell mars hale water planet professor astronomical observatory areas observations inhabitants discoveries observation theory surface korea conclusions medal phenomena trustee ariz dr autumn sciences increase',\n",
       " 'Topic #11: mr soviet brezhnev lindbergh president united states political party book man harrison war public communist union khrushchev long people did country mao wrote went leadership',\n",
       " 'Topic #12: mr khrushchev soviet party war chiang china stalin communist mrs did university united mao published basie leader speech president chinese cohan union communists gave states',\n",
       " 'Topic #13: eden mr garland miss great stage party love man wrote era khrushchev hannah scotch got characterized like resigned scheduled career kennedy albany states secretary drives',\n",
       " 'Topic #14: war times mr went lindbergh soviet minister work great government wrote public end york day young death churchill man meeting air good prime states moscow',\n",
       " 'Topic #15: mr nurses dr army work states war general picasso stevenson president man united long london wrote state marshall political colonel nurse miss 000 child china',\n",
       " 'Topic #16: sadat mr president war mrs chiang government united 000 work states state great soviet york came nasser general egyptian went did wrote country eden called',\n",
       " 'Topic #17: matisse artist nice painters henri emancipation reproduction mme bless painted mr art dealer watson pierre chapel dr painter schooling work roses war wrote authoritative united',\n",
       " 'Topic #18: mr war french wrote paris music book eden faulkner france gaulle piano lindbergh united began early work orchestra published st ballet soviet novels york story',\n",
       " 'Topic #19: mr soviet mao khrushchev hammarskjold united garbo picasso took party war asked long french death randolph man beckett miss paris like general china work black',\n",
       " 'Topic #20: mr york dr war work times man came miss harrison united 000 ernst art began france did luce like school people won great long wrote',\n",
       " 'Topic #21: mr public dr bernstein people pulitzer house mao spacecraft university science acheson universe carl stevenson war scientists book career stars good random received center did',\n",
       " 'Topic #22: president eden war mao man british lord britain picasso state civil government israel mr house great william did united church palestine work won chiang called',\n",
       " 'Topic #23: mr president man war times mrs york 000 did united came carnegie work paper wrote luce washington white states people news little great party secretary',\n",
       " 'Topic #24: mr mrs work bernstein florida york war did book washington times told 000 novel day story school miss writing dr great music prize fiction like',\n",
       " 'Topic #25: mr president war man dr united did miss 000 work york states general great mrs wrote came people public country went called long house day',\n",
       " 'Topic #26: mr luce shepard man dr war president work wrote soviet house times united did york book long mrs went great men chaplin king magazine party',\n",
       " 'Topic #27: chiang united china mao mr party general nations political work came war people like gandhi state french military stravinsky did great wife took york man',\n",
       " 'Topic #28: mr france did gaulle united times paper merrill war dr york babe french dietrich book paris firm charles face army june 000 states mrs general',\n",
       " 'Topic #29: smith kate collins bless song mr honeymoon banner raleigh miss lane anthem america performer god war worker royalties radio singer york kennedy broadcasts ed party',\n",
       " 'Topic #30: merrill firm lynch stores pierce wall amherst market customers partner selling eastman stocks expand securities saxon palm fla crash mr speculative borrow oakland stake doris',\n",
       " 'Topic #31: ruth mr war babe york united states baseball eden like times nations age churchill day 000 foreign young mrs president wanted cornell people role city',\n",
       " 'Topic #32: dr mr mann soviet party justice man war political marshall people communist states work government did khrushchev united long german school death wrote minister stalin',\n",
       " 'Topic #33: dr shaw suffrage woman national women association work war friends visit 000 france continued free racism weizmann church springfield university french 1917 art gaulle intellectual',\n",
       " 'Topic #34: mr lindbergh churchill war pershing winston president general france government united party states did soviet mao man british army randolph came franco minister sir took',\n",
       " 'Topic #35: mr times president york united party man war university work policy states did mao china chinese 000 government people stevenson public went great harrison took',\n",
       " 'Topic #36: cagney mr actor gangster chaplin doodle times man wrote did washington 000 public president street house faulkner film people united work long went roles york',\n",
       " 'Topic #37: mr ruth york kennedy book 000 came president dr public like states sabin long work vaccine man great mitchell people country university babe day wrote',\n",
       " 'Topic #38: mr brezhnev soviet mrs party came did people wrote states children like president death union father man dr gave political work little miss united cornell',\n",
       " 'Topic #39: mao chinese china macy chiang revolution peking peasants helen communists peasant shanghai snow marxism chou peasantry lin tse tung cultural countryside nationalists party marxist contradictions',\n",
       " 'Topic #40: dr german pulitzer united way war mrs york work white miss people great heart times joseph government mr sold literature sank century good mann anti',\n",
       " 'Topic #41: mr times york kennedy did wrote picasso people went work john public miss war little man way great paper 000 president like came theater chaplin',\n",
       " 'Topic #42: mr did president soviet party sadat came faulkner kennedy united war states man work political times wrote country house people brezhnev public great marshall early',\n",
       " 'Topic #43: dr president washington day gaulle 000 shaw national war stein israel negro miss united british people france men jewish stevenson women mrs army state french',\n",
       " 'Topic #44: mr miss work father man death day wrote 000 public did mayor people early make sadat family book television wife called like took career united',\n",
       " 'Topic #45: rankin montana mr kelly war mao york miss united work 000 man states paris stravinsky did like times picasso women mitchell public state day began',\n",
       " 'Topic #46: mr times war dr president mao man day took paper picasso stevenson 000 public army work went series york early chattanooga like news blues good',\n",
       " 'Topic #47: people mr washington chiang did light mrs great dr public work edison china power government war state mccormick son times small united minister york picture',\n",
       " 'Topic #48: darwin species evolution mr phenomena plants voyage surroundings 1859 observations theory naturalist reproduction president selection general animals united dr work johnson successive court forms states',\n",
       " 'Topic #49: gaulle algeria petain vichy france rally mr war philippe french normandy times churchill power mao basie soviet party did states band great resistance naval took']"
      ]
     },
     "execution_count": 43,
     "metadata": {},
     "output_type": "execute_result"
    }
   ],
   "source": [
    "topic_summaries"
   ]
  },
  {
   "cell_type": "code",
   "execution_count": null,
   "metadata": {},
   "outputs": [],
   "source": []
  }
 ],
 "metadata": {
  "kernelspec": {
   "display_name": "Python 3",
   "language": "python",
   "name": "python3"
  },
  "language_info": {
   "codemirror_mode": {
    "name": "ipython",
    "version": 3
   },
   "file_extension": ".py",
   "mimetype": "text/x-python",
   "name": "python",
   "nbconvert_exporter": "python",
   "pygments_lexer": "ipython3",
   "version": "3.6.6"
  }
 },
 "nbformat": 4,
 "nbformat_minor": 2
}
